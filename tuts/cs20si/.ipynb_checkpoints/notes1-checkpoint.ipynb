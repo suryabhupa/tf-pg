{
 "cells": [
  {
   "cell_type": "code",
   "execution_count": 12,
   "metadata": {},
   "outputs": [
    {
     "name": "stdout",
     "output_type": "stream",
     "text": [
      "[4 5]\n",
      "[[ 4.  4.  4.  4.  4.  4.  4.  4.]\n",
      " [ 4.  4.  4.  4.  4.  4.  4.  4.]\n",
      " [ 4.  4.  4.  4.  4.  4.  4.  4.]\n",
      " [ 4.  4.  4.  4.  4.  4.  4.  4.]]\n",
      "[ 10.  11.  12.  13.]\n",
      "[ 1.  2.  3.  4.  5.  6.  7.  8.  9.]\n",
      "[3 5]\n"
     ]
    }
   ],
   "source": [
    "import tensorflow as tf\n",
    "import numpy as np\n",
    "import matplotlib.pyplot as plt\n",
    "import os\n",
    "\n",
    "tf.reset_default_graph()\n",
    "\n",
    "a = tf.constant([2, 2], name='A')\n",
    "b = tf.constant([2, 3], name='B')\n",
    "c = tf.add(a, b)\n",
    "e = tf.ones([4, 4], dtype=tf.float32, name='e')\n",
    "f = tf.ones([4, 8], dtype=tf.float32, name='f')\n",
    "g = tf.matmul(e, f)\n",
    "log_dir = \"./n1_log_dir\"\n",
    "\n",
    "t_0 = 19\n",
    "tf.zeros_like(t_0)\n",
    "tf.ones_like(t_0)\n",
    "\n",
    "with tf.Session() as sess:\n",
    "    tf.global_variables_initializer().run()\n",
    "    \n",
    "    # Remove previous events files\n",
    "    for the_file in os.listdir(log_dir):\n",
    "        file_path = os.path.join(log_dir, the_file)\n",
    "        if os.path.isfile(file_path) and the_file[:6] == \"events\":\n",
    "            os.unlink(file_path)\n",
    "\n",
    "    # Write sess.graph\n",
    "    writer = tf.summary.FileWriter(log_dir, sess.graph)\n",
    "    \n",
    "    print sess.run(c)\n",
    "    print sess.run(g)\n",
    "    print sess.run(tf.linspace(10.0, 13.0, 4, name='linspace'))\n",
    "    print sess.run(tf.range(1, 10.0, 1, name='range'))\n",
    "#     print sess.run(tf.truncated_normal(shape=[10, 10], mean=0.0, stddev=0.1))\n",
    "    print sess.run(tf.constant([3, 5]))\n",
    "    \n",
    "writer.close()"
   ]
  },
  {
   "cell_type": "code",
   "execution_count": 50,
   "metadata": {},
   "outputs": [
    {
     "name": "stdout",
     "output_type": "stream",
     "text": [
      "Tensor(\"W1/read:0\", shape=(784, 10), dtype=float32)\n",
      "[[ 0.  0.  0. ...,  0.  0.  0.]\n",
      " [ 0.  0.  0. ...,  0.  0.  0.]\n",
      " [ 0.  0.  0. ...,  0.  0.  0.]\n",
      " ..., \n",
      " [ 0.  0.  0. ...,  0.  0.  0.]\n",
      " [ 0.  0.  0. ...,  0.  0.  0.]\n",
      " [ 0.  0.  0. ...,  0.  0.  0.]]\n"
     ]
    }
   ],
   "source": [
    "import tensorflow as tf\n",
    "import numpy as np\n",
    "\n",
    "tf.reset_default_graph()\n",
    "\n",
    "W1 = tf.Variable(tf.zeros([784, 10], dtype=tf.float32), name=\"W1\", )\n",
    "W2 = tf.Variable(tf.truncated_normal([784, 10]), name=\"W2\")\n",
    "\n",
    "init_1 = tf.variables_initializer([W1], name='init_1')\n",
    "init_12 = tf.variables_initializer([W1, W2], name='init_12')\n",
    "init = tf.global_variables_initializer()\n",
    "\n",
    "with tf.Session() as sess:\n",
    "    # Can also use sess.run(W1.initializer)\n",
    "    print W1\n",
    "    print sess.run(W1)\n",
    "    print \n",
    "    "
   ]
  },
  {
   "cell_type": "code",
   "execution_count": 64,
   "metadata": {},
   "outputs": [
    {
     "name": "stdout",
     "output_type": "stream",
     "text": [
      "2\n",
      "4\n",
      "8\n",
      "16\n",
      "10\n",
      "15\n",
      "20\n",
      "25\n",
      "30\n"
     ]
    }
   ],
   "source": [
    "import tensorflow as tf\n",
    "import numpy as np\n",
    "\n",
    "tf.reset_default_graph()\n",
    "\n",
    "W = tf.Variable(10)\n",
    "assign_op = W.assign(100)\n",
    "\n",
    "D = tf.Variable(2)\n",
    "D_times_2 = D.assign(D * 2)\n",
    "\n",
    "X = tf.Variable(5)\n",
    "\n",
    "with tf.Session() as sess:\n",
    "    sess.run(D.initializer)\n",
    "    print sess.run(D)\n",
    "    for _ in range(3):\n",
    "        print sess.run(D_times_2)\n",
    "        \n",
    "    sess.run(X.initializer)\n",
    "    for _ in range(5):\n",
    "        print sess.run(X.assign_add(5))\n"
   ]
  },
  {
   "cell_type": "code",
   "execution_count": null,
   "metadata": {
    "collapsed": true
   },
   "outputs": [],
   "source": []
  }
 ],
 "metadata": {
  "anaconda-cloud": {},
  "kernelspec": {
   "display_name": "Python [default]",
   "language": "python",
   "name": "python2"
  },
  "language_info": {
   "codemirror_mode": {
    "name": "ipython",
    "version": 2
   },
   "file_extension": ".py",
   "mimetype": "text/x-python",
   "name": "python",
   "nbconvert_exporter": "python",
   "pygments_lexer": "ipython2",
   "version": "2.7.12"
  }
 },
 "nbformat": 4,
 "nbformat_minor": 1
}
